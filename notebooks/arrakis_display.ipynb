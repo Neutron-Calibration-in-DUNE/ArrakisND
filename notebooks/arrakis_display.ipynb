{
 "cells": [
  {
   "cell_type": "markdown",
   "id": "7aabb23c",
   "metadata": {},
   "source": [
    "# ARRAKIS DISPLAY\n",
    "\n",
    "Log in in [NERSC JupyterLab](https://jupyter.nersc.gov/hub/login?next=%2Fhub%2Fhome) and start a Perlmutter Login Node.\n",
    "\n",
    "Run the notebook to see the Arrakis Display.\n",
    "\n",
    "Previous configuration on perlmutter:\n",
    " - Update ArrakisND repo\n",
    " - cd to the main ArrakisND directory\n",
    " - source scripts/perlmutter/perlmutter_install.sh\n",
    " - Once you log in, you should see Arrakis as a kernel option"
   ]
  },
  {
   "cell_type": "code",
   "execution_count": null,
   "id": "e55f65a5-603f-4398-87db-06f30f7c4da5",
   "metadata": {
    "tags": []
   },
   "outputs": [],
   "source": [
    "from arrakis_nd.utils.display.arrakis_display import ArrakisDisplay\n",
    "arrakis_display = ArrakisDisplay()\n",
    "from IPython.display import display, HTML\n",
    "\n",
    "# Example of a cell magic or HTML manipulation to adjust iframe height\n",
    "# This should be executed in a cell after the cell that runs your Dash app\n",
    "display(\n",
    "    HTML(\"\"\"\n",
    "\n",
    "            <style>\n",
    "                .jp-OutputArea iframe\n",
    "                {\n",
    "                    height: 1700px !important;\n",
    "                }\n",
    "            </style>\n",
    "        \"\"\")\n",
    ")"
   ]
  }
 ],
 "metadata": {
  "kernelspec": {
   "display_name": "arrakis",
   "language": "python",
   "name": "python3"
  },
  "language_info": {
   "codemirror_mode": {
    "name": "ipython",
    "version": 3
   },
   "file_extension": ".py",
   "mimetype": "text/x-python",
   "name": "python",
   "nbconvert_exporter": "python",
   "pygments_lexer": "ipython3",
   "version": "3.12.2"
  }
 },
 "nbformat": 4,
 "nbformat_minor": 5
}
