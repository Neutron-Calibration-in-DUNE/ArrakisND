{
 "cells": [
  {
   "cell_type": "code",
   "execution_count": 1,
   "metadata": {},
   "outputs": [
    {
     "name": "stderr",
     "output_type": "stream",
     "text": [
      "/global/homes/m/mnuland/.conda/envs/arrakis_env/lib/python3.11/site-packages/h5py/__init__.py:36: UserWarning: h5py is running against HDF5 1.14.3 when it was built against 1.14.2, this may cause problems\n",
      "  _warn((\"h5py is running against HDF5 {0} when it was built against {1}, \"\n"
     ]
    }
   ],
   "source": [
    "import numpy as np\n",
    "import matplotlib.pyplot as plt\n",
    "import plotly.graph_objects as go\n",
    "import pandas as pd\n",
    "from arrakis_nd import *\n",
    "import h5py"
   ]
  },
  {
   "cell_type": "code",
   "execution_count": 2,
   "metadata": {},
   "outputs": [],
   "source": [
    "file_name = \"/global/cfs/cdirs/dune/www/data/2x2/simulation/productions/MiniRun4_1E19_RHC/MiniRun4_1E19_RHC.flow/FLOW/MiniRun4_1E19_RHC.flow.00000.FLOW.hdf5\""
   ]
  },
  {
   "cell_type": "code",
   "execution_count": 3,
   "metadata": {},
   "outputs": [],
   "source": [
    "flow = h5py.File(file_name, 'r')"
   ]
  },
  {
   "cell_type": "code",
   "execution_count": 4,
   "metadata": {},
   "outputs": [],
   "source": [
    "wvfms = flow[\"light\"]['wvfm/data']['samples']"
   ]
  },
  {
   "cell_type": "code",
   "execution_count": 5,
   "metadata": {},
   "outputs": [],
   "source": [
    "# find all peaks\n",
    "wvfm_d = np.diff(wvfms, axis=-1)\n"
   ]
  },
  {
   "cell_type": "code",
   "execution_count": 6,
   "metadata": {},
   "outputs": [
    {
     "data": {
      "text/plain": [
       "(416, 8, 64, 999)"
      ]
     },
     "execution_count": 6,
     "metadata": {},
     "output_type": "execute_result"
    }
   ],
   "source": [
    "wvfm_d.shape"
   ]
  },
  {
   "cell_type": "code",
   "execution_count": 25,
   "metadata": {},
   "outputs": [],
   "source": [
    "ntpc= 8\n",
    "ndet = 64\n",
    "mask = np.full(wvfms.shape, False)\n",
    "# find all peaks\n",
    "wvfm_d = np.diff(wvfms, axis=-1)\n",
    "peaks = ((np.sign(wvfm_d[..., 1:]) * np.sign(wvfm_d[..., :-1]) < 0)\n",
    "            & (np.sign(np.diff(wvfm_d, axis=-1)) <= 0)\n",
    "            & ~np.isin(np.arange(ndet), mask).reshape(1, 1, -1, 1)\n",
    "            & np.all(~mask, axis=-1, keepdims=True))\n",
    "peaks = np.where(peaks)  # tuple of (ev, tpc, det, index)\n",
    "peak_max = wvfms[..., 1:][peaks]  # waveform value at each peak"
   ]
  },
  {
   "cell_type": "code",
   "execution_count": 26,
   "metadata": {},
   "outputs": [],
   "source": [
    "# Unpack the arrays from the tuple\n",
    "event_ids, tpcs, detectors, ticks = peaks\n",
    "\n",
    "# Create a boolean mask that is True where the event_id is 1, the tpc is 1, and the detector is 4\n",
    "mask = (event_ids == 0) & (tpcs == 0) & (detectors == 4)\n",
    "\n",
    "# Use the mask to index the ticks array\n",
    "selected_ticks = ticks[mask]"
   ]
  },
  {
   "cell_type": "code",
   "execution_count": 27,
   "metadata": {},
   "outputs": [
    {
     "data": {
      "application/vnd.plotly.v1+json": {
       "config": {
        "plotlyServerURL": "https://plot.ly"
       },
       "data": [
        {
         "mode": "lines",
         "name": "Waveform",
         "type": "scatter",
         "y": [
          20,
          36,
          -16,
          -28,
          -12,
          0,
          20,
          32,
          0,
          -20,
          -20,
          -16,
          12,
          24,
          12,
          -12,
          -28,
          -24,
          16,
          8,
          32,
          -20,
          -8,
          8,
          12,
          12,
          0,
          -4,
          -20,
          -44,
          4,
          28,
          32,
          4,
          -36,
          -24,
          20,
          28,
          16,
          -8,
          -40,
          -52,
          4,
          36,
          28,
          8,
          -8,
          -12,
          0,
          12,
          12,
          -12,
          -16,
          -32,
          -12,
          12,
          32,
          4,
          -8,
          -48,
          -28,
          0,
          36,
          40,
          24,
          -8,
          -8,
          -12,
          16,
          36,
          32,
          -12,
          -24,
          -16,
          0,
          8,
          12,
          -28,
          -20,
          0,
          0,
          24,
          28,
          28,
          -36,
          -36,
          4,
          8,
          0,
          4,
          -8,
          -28,
          8,
          16,
          32,
          16,
          -20,
          -24,
          -8,
          4,
          8,
          12,
          24,
          4,
          -4,
          -32,
          -28,
          12,
          20,
          4,
          -4,
          0,
          0,
          8,
          12,
          0,
          0,
          0,
          0,
          16,
          16,
          28,
          12,
          -20,
          -24,
          -8,
          -20,
          -20,
          -12,
          0,
          -8,
          8,
          28,
          20,
          0,
          -4,
          -16,
          16,
          -16,
          16,
          28,
          16,
          -16,
          -20,
          -8,
          4,
          -12,
          -4,
          -8,
          -8,
          8,
          4,
          12,
          24,
          12,
          -24,
          8,
          -8,
          -4,
          0,
          -28,
          -8,
          8,
          8,
          8,
          0,
          -4,
          -12,
          8,
          12,
          12,
          16,
          -8,
          -24,
          12,
          0,
          -8,
          12,
          -4,
          4,
          16,
          0,
          12,
          -8,
          -24,
          -12,
          -16,
          -8,
          12,
          16,
          16,
          12,
          -4,
          -4,
          -4,
          -12,
          -8,
          -8,
          -20,
          -16,
          4,
          -8,
          20,
          0,
          0,
          4,
          8,
          0,
          -8,
          -8,
          4,
          -28,
          -16,
          16,
          16,
          8,
          16,
          28,
          24,
          4,
          4,
          -12,
          0,
          -8,
          -8,
          -8,
          -4,
          0,
          0,
          -4,
          12,
          12,
          4,
          -16,
          -12,
          -12,
          4,
          24,
          16,
          12,
          -16,
          4,
          4,
          0,
          8,
          4,
          4,
          -24,
          -16,
          8,
          12,
          -12,
          0,
          -4,
          -16,
          12,
          24,
          -16,
          -24,
          4,
          -20,
          4,
          20,
          0,
          8,
          0,
          -20,
          -4,
          0,
          20,
          16,
          12,
          8,
          -16,
          8,
          -8,
          0,
          0,
          -16,
          -4,
          -8,
          -8,
          8,
          12,
          -8,
          16,
          12,
          36,
          364,
          600,
          692,
          684,
          680,
          600,
          516,
          444,
          384,
          304,
          292,
          308,
          300,
          284,
          268,
          224,
          184,
          180,
          164,
          116,
          92,
          84,
          112,
          176,
          212,
          180,
          188,
          176,
          200,
          216,
          192,
          160,
          152,
          108,
          76,
          40,
          52,
          32,
          24,
          12,
          48,
          44,
          76,
          88,
          88,
          88,
          76,
          72,
          68,
          76,
          56,
          48,
          28,
          44,
          52,
          84,
          84,
          72,
          52,
          20,
          -8,
          16,
          64,
          64,
          48,
          32,
          44,
          44,
          68,
          56,
          80,
          64,
          44,
          68,
          84,
          72,
          56,
          20,
          12,
          -12,
          4,
          20,
          20,
          44,
          52,
          52,
          36,
          68,
          52,
          28,
          12,
          -12,
          8,
          8,
          24,
          0,
          12,
          4,
          4,
          -4,
          12,
          40,
          52,
          88,
          108,
          128,
          108,
          104,
          76,
          32,
          8,
          12,
          28,
          24,
          24,
          0,
          -4,
          16,
          96,
          144,
          132,
          92,
          84,
          72,
          60,
          56,
          32,
          4,
          20,
          32,
          72,
          100,
          64,
          40,
          24,
          24,
          28,
          32,
          36,
          12,
          12,
          -4,
          16,
          0,
          28,
          32,
          -24,
          -24,
          -40,
          0,
          4,
          36,
          -4,
          -40,
          -28,
          4,
          8,
          28,
          8,
          -4,
          -8,
          -4,
          20,
          -8,
          -4,
          -4,
          8,
          40,
          68,
          76,
          68,
          52,
          28,
          24,
          20,
          28,
          32,
          12,
          -12,
          -20,
          4,
          16,
          52,
          84,
          48,
          52,
          48,
          60,
          40,
          28,
          4,
          -32,
          -8,
          24,
          48,
          16,
          8,
          -12,
          4,
          8,
          40,
          0,
          -24,
          -12,
          -24,
          -12,
          16,
          24,
          -4,
          -20,
          -24,
          12,
          12,
          48,
          8,
          -16,
          -44,
          -12,
          -8,
          24,
          8,
          20,
          20,
          36,
          60,
          72,
          52,
          48,
          16,
          36,
          32,
          48,
          24,
          28,
          -28,
          -16,
          20,
          84,
          96,
          52,
          20,
          32,
          36,
          48,
          60,
          20,
          -12,
          -24,
          -28,
          4,
          24,
          24,
          -8,
          -44,
          -24,
          -4,
          32,
          20,
          24,
          -28,
          -36,
          -12,
          -12,
          32,
          32,
          -4,
          -40,
          -20,
          20,
          28,
          8,
          0,
          -8,
          -12,
          8,
          20,
          20,
          0,
          -36,
          -20,
          12,
          0,
          4,
          4,
          -8,
          -8,
          8,
          16,
          12,
          8,
          -8,
          0,
          0,
          -8,
          24,
          4,
          -20,
          -4,
          -16,
          -4,
          12,
          8,
          4,
          -8,
          -12,
          -8,
          0,
          28,
          12,
          1384,
          6984,
          9840,
          10792,
          10592,
          9776,
          8588,
          7324,
          6076,
          5072,
          4180,
          3440,
          2860,
          2424,
          2144,
          1908,
          1812,
          1764,
          1720,
          1768,
          1776,
          1824,
          1832,
          1740,
          1644,
          1624,
          1620,
          1568,
          1700,
          1772,
          1756,
          1764,
          1824,
          1872,
          1888,
          1872,
          1852,
          1900,
          1860,
          1744,
          1588,
          1464,
          1376,
          1260,
          1140,
          1104,
          1108,
          1096,
          1112,
          1180,
          1240,
          1312,
          1420,
          1488,
          1484,
          1432,
          1376,
          1308,
          1232,
          1204,
          1180,
          1124,
          1020,
          984,
          944,
          928,
          996,
          1036,
          1016,
          924,
          936,
          980,
          952,
          956,
          928,
          892,
          908,
          956,
          944,
          928,
          912,
          808,
          788,
          840,
          932,
          984,
          1024,
          960,
          948,
          912,
          856,
          804,
          828,
          792,
          708,
          640,
          660,
          780,
          824,
          788,
          760,
          708,
          700,
          708,
          712,
          700,
          604,
          516,
          484,
          424,
          380,
          384,
          356,
          364,
          444,
          544,
          588,
          612,
          612,
          704,
          732,
          756,
          716,
          696,
          704,
          644,
          636,
          588,
          492,
          392,
          324,
          292,
          272,
          308,
          332,
          336,
          380,
          464,
          476,
          500,
          560,
          548,
          512,
          436,
          364,
          324,
          292,
          240,
          200,
          164,
          144,
          148,
          172,
          152,
          156,
          128,
          200,
          284,
          348,
          464,
          560,
          556,
          500,
          432,
          336,
          276,
          264,
          264,
          276,
          264,
          244,
          204,
          160,
          172,
          152,
          192,
          184,
          184,
          180,
          148,
          128,
          152,
          200,
          212,
          224,
          244,
          236,
          200,
          168,
          184,
          180,
          188,
          184,
          192,
          296,
          432,
          524,
          556,
          668,
          712,
          680,
          612,
          552,
          480,
          412,
          396,
          360,
          304,
          272,
          228,
          212,
          188,
          148,
          112,
          152,
          164,
          128,
          128,
          116,
          104,
          72,
          40,
          28,
          44,
          76,
          112,
          108,
          108,
          124,
          136,
          144,
          120,
          116,
          120,
          124,
          96,
          92,
          92,
          64,
          40,
          48,
          68,
          96,
          116,
          128,
          124,
          196,
          216,
          232,
          220,
          228,
          244,
          248,
          220,
          164,
          180,
          164,
          188,
          192,
          224,
          236,
          244,
          224,
          172,
          124,
          104,
          84,
          44,
          44,
          88,
          92,
          92,
          116,
          144,
          180,
          212,
          216,
          172,
          124,
          92,
          96,
          72,
          104,
          100,
          96,
          112,
          124,
          140,
          188,
          204,
          220,
          272,
          352,
          356,
          340,
          272,
          184,
          148,
          124,
          152,
          148,
          152,
          144,
          148,
          148,
          164,
          172,
          156,
          148,
          116,
          124,
          132,
          144,
          120,
          80,
          64,
          68,
          52,
          40,
          36,
          36,
          8,
          4,
          -12,
          -8,
          24,
          20,
          76,
          152,
          164,
          212,
          216,
          188,
          172,
          116,
          100,
          108,
          76,
          116,
          148,
          124,
          132,
          156,
          168,
          176,
          168,
          152,
          132,
          108,
          76,
          48,
          52,
          32,
          4,
          32,
          60,
          60,
          80,
          56,
          36,
          68,
          92,
          80,
          76,
          64,
          40,
          20,
          32,
          36,
          36,
          24,
          -12,
          -8,
          12,
          48,
          64,
          92,
          136,
          172,
          168,
          144,
          128,
          100,
          76,
          60,
          32,
          64,
          48,
          20,
          8,
          4,
          -4,
          24,
          20,
          12,
          16,
          8,
          0,
          4,
          -20,
          -16,
          -24,
          -8
         ]
        },
        {
         "mode": "markers",
         "name": "Peaks",
         "type": "scatter",
         "x": [
          1,
          7,
          13,
          18,
          20,
          32,
          37,
          43,
          56,
          63,
          69,
          76,
          87,
          89,
          94,
          102,
          108,
          114,
          121,
          125,
          129,
          132,
          137,
          140,
          145,
          147,
          150,
          153,
          156,
          159,
          171,
          174,
          177,
          180,
          182,
          185,
          200,
          202,
          206,
          210,
          217,
          222,
          237,
          244,
          250,
          252,
          256,
          259,
          262,
          264,
          269,
          274,
          279,
          283,
          285,
          290,
          299,
          312,
          314,
          317,
          324,
          328,
          337,
          356,
          358,
          362,
          375,
          382,
          384,
          393,
          400,
          407,
          419,
          426,
          430,
          433,
          439,
          445,
          450,
          457,
          464,
          471,
          473,
          475,
          482,
          488,
          491,
          495,
          501,
          507,
          513,
          517,
          519,
          521,
          526,
          532,
          544,
          546,
          557,
          568,
          575,
          582,
          585,
          588,
          595,
          600,
          619,
          626,
          631,
          634,
          643,
          650,
          664,
          668,
          670,
          674,
          683,
          689,
          695,
          701,
          708,
          718,
          721,
          737,
          749,
          751,
          757,
          765,
          770,
          772,
          782,
          786,
          788,
          796,
          812,
          822,
          827,
          831,
          841,
          845,
          849,
          852,
          858,
          873,
          877,
          879,
          890,
          896,
          898,
          903,
          909,
          913,
          922,
          928,
          933,
          936,
          941,
          948,
          954,
          958,
          975,
          983,
          989,
          992,
          995,
          997
         ],
         "y": [
          36,
          32,
          24,
          16,
          32,
          32,
          28,
          36,
          32,
          40,
          36,
          12,
          8,
          4,
          32,
          24,
          20,
          12,
          28,
          -8,
          0,
          28,
          16,
          28,
          4,
          -4,
          8,
          24,
          8,
          0,
          16,
          12,
          12,
          16,
          12,
          -12,
          4,
          20,
          8,
          4,
          28,
          0,
          24,
          8,
          12,
          0,
          24,
          4,
          20,
          8,
          20,
          8,
          -4,
          12,
          16,
          692,
          308,
          212,
          188,
          216,
          52,
          48,
          76,
          68,
          80,
          84,
          68,
          24,
          12,
          128,
          28,
          144,
          100,
          36,
          16,
          32,
          36,
          28,
          20,
          76,
          32,
          84,
          52,
          60,
          48,
          40,
          -12,
          24,
          48,
          24,
          72,
          36,
          48,
          28,
          96,
          60,
          32,
          24,
          28,
          12,
          16,
          24,
          -4,
          12,
          28,
          10792,
          1832,
          1772,
          1888,
          1900,
          1108,
          1488,
          1036,
          980,
          956,
          956,
          1024,
          828,
          824,
          712,
          384,
          756,
          704,
          560,
          172,
          156,
          560,
          276,
          172,
          192,
          244,
          184,
          188,
          712,
          164,
          112,
          144,
          124,
          128,
          232,
          248,
          180,
          244,
          216,
          96,
          104,
          356,
          152,
          152,
          172,
          144,
          68,
          24,
          216,
          108,
          148,
          176,
          52,
          80,
          92,
          172,
          64,
          24,
          16,
          4,
          -16
         ]
        }
       ],
       "layout": {
        "template": {
         "data": {
          "bar": [
           {
            "error_x": {
             "color": "#2a3f5f"
            },
            "error_y": {
             "color": "#2a3f5f"
            },
            "marker": {
             "line": {
              "color": "#E5ECF6",
              "width": 0.5
             },
             "pattern": {
              "fillmode": "overlay",
              "size": 10,
              "solidity": 0.2
             }
            },
            "type": "bar"
           }
          ],
          "barpolar": [
           {
            "marker": {
             "line": {
              "color": "#E5ECF6",
              "width": 0.5
             },
             "pattern": {
              "fillmode": "overlay",
              "size": 10,
              "solidity": 0.2
             }
            },
            "type": "barpolar"
           }
          ],
          "carpet": [
           {
            "aaxis": {
             "endlinecolor": "#2a3f5f",
             "gridcolor": "white",
             "linecolor": "white",
             "minorgridcolor": "white",
             "startlinecolor": "#2a3f5f"
            },
            "baxis": {
             "endlinecolor": "#2a3f5f",
             "gridcolor": "white",
             "linecolor": "white",
             "minorgridcolor": "white",
             "startlinecolor": "#2a3f5f"
            },
            "type": "carpet"
           }
          ],
          "choropleth": [
           {
            "colorbar": {
             "outlinewidth": 0,
             "ticks": ""
            },
            "type": "choropleth"
           }
          ],
          "contour": [
           {
            "colorbar": {
             "outlinewidth": 0,
             "ticks": ""
            },
            "colorscale": [
             [
              0,
              "#0d0887"
             ],
             [
              0.1111111111111111,
              "#46039f"
             ],
             [
              0.2222222222222222,
              "#7201a8"
             ],
             [
              0.3333333333333333,
              "#9c179e"
             ],
             [
              0.4444444444444444,
              "#bd3786"
             ],
             [
              0.5555555555555556,
              "#d8576b"
             ],
             [
              0.6666666666666666,
              "#ed7953"
             ],
             [
              0.7777777777777778,
              "#fb9f3a"
             ],
             [
              0.8888888888888888,
              "#fdca26"
             ],
             [
              1,
              "#f0f921"
             ]
            ],
            "type": "contour"
           }
          ],
          "contourcarpet": [
           {
            "colorbar": {
             "outlinewidth": 0,
             "ticks": ""
            },
            "type": "contourcarpet"
           }
          ],
          "heatmap": [
           {
            "colorbar": {
             "outlinewidth": 0,
             "ticks": ""
            },
            "colorscale": [
             [
              0,
              "#0d0887"
             ],
             [
              0.1111111111111111,
              "#46039f"
             ],
             [
              0.2222222222222222,
              "#7201a8"
             ],
             [
              0.3333333333333333,
              "#9c179e"
             ],
             [
              0.4444444444444444,
              "#bd3786"
             ],
             [
              0.5555555555555556,
              "#d8576b"
             ],
             [
              0.6666666666666666,
              "#ed7953"
             ],
             [
              0.7777777777777778,
              "#fb9f3a"
             ],
             [
              0.8888888888888888,
              "#fdca26"
             ],
             [
              1,
              "#f0f921"
             ]
            ],
            "type": "heatmap"
           }
          ],
          "heatmapgl": [
           {
            "colorbar": {
             "outlinewidth": 0,
             "ticks": ""
            },
            "colorscale": [
             [
              0,
              "#0d0887"
             ],
             [
              0.1111111111111111,
              "#46039f"
             ],
             [
              0.2222222222222222,
              "#7201a8"
             ],
             [
              0.3333333333333333,
              "#9c179e"
             ],
             [
              0.4444444444444444,
              "#bd3786"
             ],
             [
              0.5555555555555556,
              "#d8576b"
             ],
             [
              0.6666666666666666,
              "#ed7953"
             ],
             [
              0.7777777777777778,
              "#fb9f3a"
             ],
             [
              0.8888888888888888,
              "#fdca26"
             ],
             [
              1,
              "#f0f921"
             ]
            ],
            "type": "heatmapgl"
           }
          ],
          "histogram": [
           {
            "marker": {
             "pattern": {
              "fillmode": "overlay",
              "size": 10,
              "solidity": 0.2
             }
            },
            "type": "histogram"
           }
          ],
          "histogram2d": [
           {
            "colorbar": {
             "outlinewidth": 0,
             "ticks": ""
            },
            "colorscale": [
             [
              0,
              "#0d0887"
             ],
             [
              0.1111111111111111,
              "#46039f"
             ],
             [
              0.2222222222222222,
              "#7201a8"
             ],
             [
              0.3333333333333333,
              "#9c179e"
             ],
             [
              0.4444444444444444,
              "#bd3786"
             ],
             [
              0.5555555555555556,
              "#d8576b"
             ],
             [
              0.6666666666666666,
              "#ed7953"
             ],
             [
              0.7777777777777778,
              "#fb9f3a"
             ],
             [
              0.8888888888888888,
              "#fdca26"
             ],
             [
              1,
              "#f0f921"
             ]
            ],
            "type": "histogram2d"
           }
          ],
          "histogram2dcontour": [
           {
            "colorbar": {
             "outlinewidth": 0,
             "ticks": ""
            },
            "colorscale": [
             [
              0,
              "#0d0887"
             ],
             [
              0.1111111111111111,
              "#46039f"
             ],
             [
              0.2222222222222222,
              "#7201a8"
             ],
             [
              0.3333333333333333,
              "#9c179e"
             ],
             [
              0.4444444444444444,
              "#bd3786"
             ],
             [
              0.5555555555555556,
              "#d8576b"
             ],
             [
              0.6666666666666666,
              "#ed7953"
             ],
             [
              0.7777777777777778,
              "#fb9f3a"
             ],
             [
              0.8888888888888888,
              "#fdca26"
             ],
             [
              1,
              "#f0f921"
             ]
            ],
            "type": "histogram2dcontour"
           }
          ],
          "mesh3d": [
           {
            "colorbar": {
             "outlinewidth": 0,
             "ticks": ""
            },
            "type": "mesh3d"
           }
          ],
          "parcoords": [
           {
            "line": {
             "colorbar": {
              "outlinewidth": 0,
              "ticks": ""
             }
            },
            "type": "parcoords"
           }
          ],
          "pie": [
           {
            "automargin": true,
            "type": "pie"
           }
          ],
          "scatter": [
           {
            "fillpattern": {
             "fillmode": "overlay",
             "size": 10,
             "solidity": 0.2
            },
            "type": "scatter"
           }
          ],
          "scatter3d": [
           {
            "line": {
             "colorbar": {
              "outlinewidth": 0,
              "ticks": ""
             }
            },
            "marker": {
             "colorbar": {
              "outlinewidth": 0,
              "ticks": ""
             }
            },
            "type": "scatter3d"
           }
          ],
          "scattercarpet": [
           {
            "marker": {
             "colorbar": {
              "outlinewidth": 0,
              "ticks": ""
             }
            },
            "type": "scattercarpet"
           }
          ],
          "scattergeo": [
           {
            "marker": {
             "colorbar": {
              "outlinewidth": 0,
              "ticks": ""
             }
            },
            "type": "scattergeo"
           }
          ],
          "scattergl": [
           {
            "marker": {
             "colorbar": {
              "outlinewidth": 0,
              "ticks": ""
             }
            },
            "type": "scattergl"
           }
          ],
          "scattermapbox": [
           {
            "marker": {
             "colorbar": {
              "outlinewidth": 0,
              "ticks": ""
             }
            },
            "type": "scattermapbox"
           }
          ],
          "scatterpolar": [
           {
            "marker": {
             "colorbar": {
              "outlinewidth": 0,
              "ticks": ""
             }
            },
            "type": "scatterpolar"
           }
          ],
          "scatterpolargl": [
           {
            "marker": {
             "colorbar": {
              "outlinewidth": 0,
              "ticks": ""
             }
            },
            "type": "scatterpolargl"
           }
          ],
          "scatterternary": [
           {
            "marker": {
             "colorbar": {
              "outlinewidth": 0,
              "ticks": ""
             }
            },
            "type": "scatterternary"
           }
          ],
          "surface": [
           {
            "colorbar": {
             "outlinewidth": 0,
             "ticks": ""
            },
            "colorscale": [
             [
              0,
              "#0d0887"
             ],
             [
              0.1111111111111111,
              "#46039f"
             ],
             [
              0.2222222222222222,
              "#7201a8"
             ],
             [
              0.3333333333333333,
              "#9c179e"
             ],
             [
              0.4444444444444444,
              "#bd3786"
             ],
             [
              0.5555555555555556,
              "#d8576b"
             ],
             [
              0.6666666666666666,
              "#ed7953"
             ],
             [
              0.7777777777777778,
              "#fb9f3a"
             ],
             [
              0.8888888888888888,
              "#fdca26"
             ],
             [
              1,
              "#f0f921"
             ]
            ],
            "type": "surface"
           }
          ],
          "table": [
           {
            "cells": {
             "fill": {
              "color": "#EBF0F8"
             },
             "line": {
              "color": "white"
             }
            },
            "header": {
             "fill": {
              "color": "#C8D4E3"
             },
             "line": {
              "color": "white"
             }
            },
            "type": "table"
           }
          ]
         },
         "layout": {
          "annotationdefaults": {
           "arrowcolor": "#2a3f5f",
           "arrowhead": 0,
           "arrowwidth": 1
          },
          "autotypenumbers": "strict",
          "coloraxis": {
           "colorbar": {
            "outlinewidth": 0,
            "ticks": ""
           }
          },
          "colorscale": {
           "diverging": [
            [
             0,
             "#8e0152"
            ],
            [
             0.1,
             "#c51b7d"
            ],
            [
             0.2,
             "#de77ae"
            ],
            [
             0.3,
             "#f1b6da"
            ],
            [
             0.4,
             "#fde0ef"
            ],
            [
             0.5,
             "#f7f7f7"
            ],
            [
             0.6,
             "#e6f5d0"
            ],
            [
             0.7,
             "#b8e186"
            ],
            [
             0.8,
             "#7fbc41"
            ],
            [
             0.9,
             "#4d9221"
            ],
            [
             1,
             "#276419"
            ]
           ],
           "sequential": [
            [
             0,
             "#0d0887"
            ],
            [
             0.1111111111111111,
             "#46039f"
            ],
            [
             0.2222222222222222,
             "#7201a8"
            ],
            [
             0.3333333333333333,
             "#9c179e"
            ],
            [
             0.4444444444444444,
             "#bd3786"
            ],
            [
             0.5555555555555556,
             "#d8576b"
            ],
            [
             0.6666666666666666,
             "#ed7953"
            ],
            [
             0.7777777777777778,
             "#fb9f3a"
            ],
            [
             0.8888888888888888,
             "#fdca26"
            ],
            [
             1,
             "#f0f921"
            ]
           ],
           "sequentialminus": [
            [
             0,
             "#0d0887"
            ],
            [
             0.1111111111111111,
             "#46039f"
            ],
            [
             0.2222222222222222,
             "#7201a8"
            ],
            [
             0.3333333333333333,
             "#9c179e"
            ],
            [
             0.4444444444444444,
             "#bd3786"
            ],
            [
             0.5555555555555556,
             "#d8576b"
            ],
            [
             0.6666666666666666,
             "#ed7953"
            ],
            [
             0.7777777777777778,
             "#fb9f3a"
            ],
            [
             0.8888888888888888,
             "#fdca26"
            ],
            [
             1,
             "#f0f921"
            ]
           ]
          },
          "colorway": [
           "#636efa",
           "#EF553B",
           "#00cc96",
           "#ab63fa",
           "#FFA15A",
           "#19d3f3",
           "#FF6692",
           "#B6E880",
           "#FF97FF",
           "#FECB52"
          ],
          "font": {
           "color": "#2a3f5f"
          },
          "geo": {
           "bgcolor": "white",
           "lakecolor": "white",
           "landcolor": "#E5ECF6",
           "showlakes": true,
           "showland": true,
           "subunitcolor": "white"
          },
          "hoverlabel": {
           "align": "left"
          },
          "hovermode": "closest",
          "mapbox": {
           "style": "light"
          },
          "paper_bgcolor": "white",
          "plot_bgcolor": "#E5ECF6",
          "polar": {
           "angularaxis": {
            "gridcolor": "white",
            "linecolor": "white",
            "ticks": ""
           },
           "bgcolor": "#E5ECF6",
           "radialaxis": {
            "gridcolor": "white",
            "linecolor": "white",
            "ticks": ""
           }
          },
          "scene": {
           "xaxis": {
            "backgroundcolor": "#E5ECF6",
            "gridcolor": "white",
            "gridwidth": 2,
            "linecolor": "white",
            "showbackground": true,
            "ticks": "",
            "zerolinecolor": "white"
           },
           "yaxis": {
            "backgroundcolor": "#E5ECF6",
            "gridcolor": "white",
            "gridwidth": 2,
            "linecolor": "white",
            "showbackground": true,
            "ticks": "",
            "zerolinecolor": "white"
           },
           "zaxis": {
            "backgroundcolor": "#E5ECF6",
            "gridcolor": "white",
            "gridwidth": 2,
            "linecolor": "white",
            "showbackground": true,
            "ticks": "",
            "zerolinecolor": "white"
           }
          },
          "shapedefaults": {
           "line": {
            "color": "#2a3f5f"
           }
          },
          "ternary": {
           "aaxis": {
            "gridcolor": "white",
            "linecolor": "white",
            "ticks": ""
           },
           "baxis": {
            "gridcolor": "white",
            "linecolor": "white",
            "ticks": ""
           },
           "bgcolor": "#E5ECF6",
           "caxis": {
            "gridcolor": "white",
            "linecolor": "white",
            "ticks": ""
           }
          },
          "title": {
           "x": 0.05
          },
          "xaxis": {
           "automargin": true,
           "gridcolor": "white",
           "linecolor": "white",
           "ticks": "",
           "title": {
            "standoff": 15
           },
           "zerolinecolor": "white",
           "zerolinewidth": 2
          },
          "yaxis": {
           "automargin": true,
           "gridcolor": "white",
           "linecolor": "white",
           "ticks": "",
           "title": {
            "standoff": 15
           },
           "zerolinecolor": "white",
           "zerolinewidth": 2
          }
         }
        }
       }
      },
      "text/html": [
       "<div>                            <div id=\"04509262-99f4-4c6b-a1c5-67b32996cbb1\" class=\"plotly-graph-div\" style=\"height:525px; width:100%;\"></div>            <script type=\"text/javascript\">                require([\"plotly\"], function(Plotly) {                    window.PLOTLYENV=window.PLOTLYENV || {};                                    if (document.getElementById(\"04509262-99f4-4c6b-a1c5-67b32996cbb1\")) {                    Plotly.newPlot(                        \"04509262-99f4-4c6b-a1c5-67b32996cbb1\",                        [{\"mode\":\"lines\",\"name\":\"Waveform\",\"y\":[20,36,-16,-28,-12,0,20,32,0,-20,-20,-16,12,24,12,-12,-28,-24,16,8,32,-20,-8,8,12,12,0,-4,-20,-44,4,28,32,4,-36,-24,20,28,16,-8,-40,-52,4,36,28,8,-8,-12,0,12,12,-12,-16,-32,-12,12,32,4,-8,-48,-28,0,36,40,24,-8,-8,-12,16,36,32,-12,-24,-16,0,8,12,-28,-20,0,0,24,28,28,-36,-36,4,8,0,4,-8,-28,8,16,32,16,-20,-24,-8,4,8,12,24,4,-4,-32,-28,12,20,4,-4,0,0,8,12,0,0,0,0,16,16,28,12,-20,-24,-8,-20,-20,-12,0,-8,8,28,20,0,-4,-16,16,-16,16,28,16,-16,-20,-8,4,-12,-4,-8,-8,8,4,12,24,12,-24,8,-8,-4,0,-28,-8,8,8,8,0,-4,-12,8,12,12,16,-8,-24,12,0,-8,12,-4,4,16,0,12,-8,-24,-12,-16,-8,12,16,16,12,-4,-4,-4,-12,-8,-8,-20,-16,4,-8,20,0,0,4,8,0,-8,-8,4,-28,-16,16,16,8,16,28,24,4,4,-12,0,-8,-8,-8,-4,0,0,-4,12,12,4,-16,-12,-12,4,24,16,12,-16,4,4,0,8,4,4,-24,-16,8,12,-12,0,-4,-16,12,24,-16,-24,4,-20,4,20,0,8,0,-20,-4,0,20,16,12,8,-16,8,-8,0,0,-16,-4,-8,-8,8,12,-8,16,12,36,364,600,692,684,680,600,516,444,384,304,292,308,300,284,268,224,184,180,164,116,92,84,112,176,212,180,188,176,200,216,192,160,152,108,76,40,52,32,24,12,48,44,76,88,88,88,76,72,68,76,56,48,28,44,52,84,84,72,52,20,-8,16,64,64,48,32,44,44,68,56,80,64,44,68,84,72,56,20,12,-12,4,20,20,44,52,52,36,68,52,28,12,-12,8,8,24,0,12,4,4,-4,12,40,52,88,108,128,108,104,76,32,8,12,28,24,24,0,-4,16,96,144,132,92,84,72,60,56,32,4,20,32,72,100,64,40,24,24,28,32,36,12,12,-4,16,0,28,32,-24,-24,-40,0,4,36,-4,-40,-28,4,8,28,8,-4,-8,-4,20,-8,-4,-4,8,40,68,76,68,52,28,24,20,28,32,12,-12,-20,4,16,52,84,48,52,48,60,40,28,4,-32,-8,24,48,16,8,-12,4,8,40,0,-24,-12,-24,-12,16,24,-4,-20,-24,12,12,48,8,-16,-44,-12,-8,24,8,20,20,36,60,72,52,48,16,36,32,48,24,28,-28,-16,20,84,96,52,20,32,36,48,60,20,-12,-24,-28,4,24,24,-8,-44,-24,-4,32,20,24,-28,-36,-12,-12,32,32,-4,-40,-20,20,28,8,0,-8,-12,8,20,20,0,-36,-20,12,0,4,4,-8,-8,8,16,12,8,-8,0,0,-8,24,4,-20,-4,-16,-4,12,8,4,-8,-12,-8,0,28,12,1384,6984,9840,10792,10592,9776,8588,7324,6076,5072,4180,3440,2860,2424,2144,1908,1812,1764,1720,1768,1776,1824,1832,1740,1644,1624,1620,1568,1700,1772,1756,1764,1824,1872,1888,1872,1852,1900,1860,1744,1588,1464,1376,1260,1140,1104,1108,1096,1112,1180,1240,1312,1420,1488,1484,1432,1376,1308,1232,1204,1180,1124,1020,984,944,928,996,1036,1016,924,936,980,952,956,928,892,908,956,944,928,912,808,788,840,932,984,1024,960,948,912,856,804,828,792,708,640,660,780,824,788,760,708,700,708,712,700,604,516,484,424,380,384,356,364,444,544,588,612,612,704,732,756,716,696,704,644,636,588,492,392,324,292,272,308,332,336,380,464,476,500,560,548,512,436,364,324,292,240,200,164,144,148,172,152,156,128,200,284,348,464,560,556,500,432,336,276,264,264,276,264,244,204,160,172,152,192,184,184,180,148,128,152,200,212,224,244,236,200,168,184,180,188,184,192,296,432,524,556,668,712,680,612,552,480,412,396,360,304,272,228,212,188,148,112,152,164,128,128,116,104,72,40,28,44,76,112,108,108,124,136,144,120,116,120,124,96,92,92,64,40,48,68,96,116,128,124,196,216,232,220,228,244,248,220,164,180,164,188,192,224,236,244,224,172,124,104,84,44,44,88,92,92,116,144,180,212,216,172,124,92,96,72,104,100,96,112,124,140,188,204,220,272,352,356,340,272,184,148,124,152,148,152,144,148,148,164,172,156,148,116,124,132,144,120,80,64,68,52,40,36,36,8,4,-12,-8,24,20,76,152,164,212,216,188,172,116,100,108,76,116,148,124,132,156,168,176,168,152,132,108,76,48,52,32,4,32,60,60,80,56,36,68,92,80,76,64,40,20,32,36,36,24,-12,-8,12,48,64,92,136,172,168,144,128,100,76,60,32,64,48,20,8,4,-4,24,20,12,16,8,0,4,-20,-16,-24,-8],\"type\":\"scatter\"},{\"mode\":\"markers\",\"name\":\"Peaks\",\"x\":[1,7,13,18,20,32,37,43,56,63,69,76,87,89,94,102,108,114,121,125,129,132,137,140,145,147,150,153,156,159,171,174,177,180,182,185,200,202,206,210,217,222,237,244,250,252,256,259,262,264,269,274,279,283,285,290,299,312,314,317,324,328,337,356,358,362,375,382,384,393,400,407,419,426,430,433,439,445,450,457,464,471,473,475,482,488,491,495,501,507,513,517,519,521,526,532,544,546,557,568,575,582,585,588,595,600,619,626,631,634,643,650,664,668,670,674,683,689,695,701,708,718,721,737,749,751,757,765,770,772,782,786,788,796,812,822,827,831,841,845,849,852,858,873,877,879,890,896,898,903,909,913,922,928,933,936,941,948,954,958,975,983,989,992,995,997],\"y\":[36,32,24,16,32,32,28,36,32,40,36,12,8,4,32,24,20,12,28,-8,0,28,16,28,4,-4,8,24,8,0,16,12,12,16,12,-12,4,20,8,4,28,0,24,8,12,0,24,4,20,8,20,8,-4,12,16,692,308,212,188,216,52,48,76,68,80,84,68,24,12,128,28,144,100,36,16,32,36,28,20,76,32,84,52,60,48,40,-12,24,48,24,72,36,48,28,96,60,32,24,28,12,16,24,-4,12,28,10792,1832,1772,1888,1900,1108,1488,1036,980,956,956,1024,828,824,712,384,756,704,560,172,156,560,276,172,192,244,184,188,712,164,112,144,124,128,232,248,180,244,216,96,104,356,152,152,172,144,68,24,216,108,148,176,52,80,92,172,64,24,16,4,-16],\"type\":\"scatter\"}],                        {\"template\":{\"data\":{\"histogram2dcontour\":[{\"type\":\"histogram2dcontour\",\"colorbar\":{\"outlinewidth\":0,\"ticks\":\"\"},\"colorscale\":[[0.0,\"#0d0887\"],[0.1111111111111111,\"#46039f\"],[0.2222222222222222,\"#7201a8\"],[0.3333333333333333,\"#9c179e\"],[0.4444444444444444,\"#bd3786\"],[0.5555555555555556,\"#d8576b\"],[0.6666666666666666,\"#ed7953\"],[0.7777777777777778,\"#fb9f3a\"],[0.8888888888888888,\"#fdca26\"],[1.0,\"#f0f921\"]]}],\"choropleth\":[{\"type\":\"choropleth\",\"colorbar\":{\"outlinewidth\":0,\"ticks\":\"\"}}],\"histogram2d\":[{\"type\":\"histogram2d\",\"colorbar\":{\"outlinewidth\":0,\"ticks\":\"\"},\"colorscale\":[[0.0,\"#0d0887\"],[0.1111111111111111,\"#46039f\"],[0.2222222222222222,\"#7201a8\"],[0.3333333333333333,\"#9c179e\"],[0.4444444444444444,\"#bd3786\"],[0.5555555555555556,\"#d8576b\"],[0.6666666666666666,\"#ed7953\"],[0.7777777777777778,\"#fb9f3a\"],[0.8888888888888888,\"#fdca26\"],[1.0,\"#f0f921\"]]}],\"heatmap\":[{\"type\":\"heatmap\",\"colorbar\":{\"outlinewidth\":0,\"ticks\":\"\"},\"colorscale\":[[0.0,\"#0d0887\"],[0.1111111111111111,\"#46039f\"],[0.2222222222222222,\"#7201a8\"],[0.3333333333333333,\"#9c179e\"],[0.4444444444444444,\"#bd3786\"],[0.5555555555555556,\"#d8576b\"],[0.6666666666666666,\"#ed7953\"],[0.7777777777777778,\"#fb9f3a\"],[0.8888888888888888,\"#fdca26\"],[1.0,\"#f0f921\"]]}],\"heatmapgl\":[{\"type\":\"heatmapgl\",\"colorbar\":{\"outlinewidth\":0,\"ticks\":\"\"},\"colorscale\":[[0.0,\"#0d0887\"],[0.1111111111111111,\"#46039f\"],[0.2222222222222222,\"#7201a8\"],[0.3333333333333333,\"#9c179e\"],[0.4444444444444444,\"#bd3786\"],[0.5555555555555556,\"#d8576b\"],[0.6666666666666666,\"#ed7953\"],[0.7777777777777778,\"#fb9f3a\"],[0.8888888888888888,\"#fdca26\"],[1.0,\"#f0f921\"]]}],\"contourcarpet\":[{\"type\":\"contourcarpet\",\"colorbar\":{\"outlinewidth\":0,\"ticks\":\"\"}}],\"contour\":[{\"type\":\"contour\",\"colorbar\":{\"outlinewidth\":0,\"ticks\":\"\"},\"colorscale\":[[0.0,\"#0d0887\"],[0.1111111111111111,\"#46039f\"],[0.2222222222222222,\"#7201a8\"],[0.3333333333333333,\"#9c179e\"],[0.4444444444444444,\"#bd3786\"],[0.5555555555555556,\"#d8576b\"],[0.6666666666666666,\"#ed7953\"],[0.7777777777777778,\"#fb9f3a\"],[0.8888888888888888,\"#fdca26\"],[1.0,\"#f0f921\"]]}],\"surface\":[{\"type\":\"surface\",\"colorbar\":{\"outlinewidth\":0,\"ticks\":\"\"},\"colorscale\":[[0.0,\"#0d0887\"],[0.1111111111111111,\"#46039f\"],[0.2222222222222222,\"#7201a8\"],[0.3333333333333333,\"#9c179e\"],[0.4444444444444444,\"#bd3786\"],[0.5555555555555556,\"#d8576b\"],[0.6666666666666666,\"#ed7953\"],[0.7777777777777778,\"#fb9f3a\"],[0.8888888888888888,\"#fdca26\"],[1.0,\"#f0f921\"]]}],\"mesh3d\":[{\"type\":\"mesh3d\",\"colorbar\":{\"outlinewidth\":0,\"ticks\":\"\"}}],\"scatter\":[{\"fillpattern\":{\"fillmode\":\"overlay\",\"size\":10,\"solidity\":0.2},\"type\":\"scatter\"}],\"parcoords\":[{\"type\":\"parcoords\",\"line\":{\"colorbar\":{\"outlinewidth\":0,\"ticks\":\"\"}}}],\"scatterpolargl\":[{\"type\":\"scatterpolargl\",\"marker\":{\"colorbar\":{\"outlinewidth\":0,\"ticks\":\"\"}}}],\"bar\":[{\"error_x\":{\"color\":\"#2a3f5f\"},\"error_y\":{\"color\":\"#2a3f5f\"},\"marker\":{\"line\":{\"color\":\"#E5ECF6\",\"width\":0.5},\"pattern\":{\"fillmode\":\"overlay\",\"size\":10,\"solidity\":0.2}},\"type\":\"bar\"}],\"scattergeo\":[{\"type\":\"scattergeo\",\"marker\":{\"colorbar\":{\"outlinewidth\":0,\"ticks\":\"\"}}}],\"scatterpolar\":[{\"type\":\"scatterpolar\",\"marker\":{\"colorbar\":{\"outlinewidth\":0,\"ticks\":\"\"}}}],\"histogram\":[{\"marker\":{\"pattern\":{\"fillmode\":\"overlay\",\"size\":10,\"solidity\":0.2}},\"type\":\"histogram\"}],\"scattergl\":[{\"type\":\"scattergl\",\"marker\":{\"colorbar\":{\"outlinewidth\":0,\"ticks\":\"\"}}}],\"scatter3d\":[{\"type\":\"scatter3d\",\"line\":{\"colorbar\":{\"outlinewidth\":0,\"ticks\":\"\"}},\"marker\":{\"colorbar\":{\"outlinewidth\":0,\"ticks\":\"\"}}}],\"scattermapbox\":[{\"type\":\"scattermapbox\",\"marker\":{\"colorbar\":{\"outlinewidth\":0,\"ticks\":\"\"}}}],\"scatterternary\":[{\"type\":\"scatterternary\",\"marker\":{\"colorbar\":{\"outlinewidth\":0,\"ticks\":\"\"}}}],\"scattercarpet\":[{\"type\":\"scattercarpet\",\"marker\":{\"colorbar\":{\"outlinewidth\":0,\"ticks\":\"\"}}}],\"carpet\":[{\"aaxis\":{\"endlinecolor\":\"#2a3f5f\",\"gridcolor\":\"white\",\"linecolor\":\"white\",\"minorgridcolor\":\"white\",\"startlinecolor\":\"#2a3f5f\"},\"baxis\":{\"endlinecolor\":\"#2a3f5f\",\"gridcolor\":\"white\",\"linecolor\":\"white\",\"minorgridcolor\":\"white\",\"startlinecolor\":\"#2a3f5f\"},\"type\":\"carpet\"}],\"table\":[{\"cells\":{\"fill\":{\"color\":\"#EBF0F8\"},\"line\":{\"color\":\"white\"}},\"header\":{\"fill\":{\"color\":\"#C8D4E3\"},\"line\":{\"color\":\"white\"}},\"type\":\"table\"}],\"barpolar\":[{\"marker\":{\"line\":{\"color\":\"#E5ECF6\",\"width\":0.5},\"pattern\":{\"fillmode\":\"overlay\",\"size\":10,\"solidity\":0.2}},\"type\":\"barpolar\"}],\"pie\":[{\"automargin\":true,\"type\":\"pie\"}]},\"layout\":{\"autotypenumbers\":\"strict\",\"colorway\":[\"#636efa\",\"#EF553B\",\"#00cc96\",\"#ab63fa\",\"#FFA15A\",\"#19d3f3\",\"#FF6692\",\"#B6E880\",\"#FF97FF\",\"#FECB52\"],\"font\":{\"color\":\"#2a3f5f\"},\"hovermode\":\"closest\",\"hoverlabel\":{\"align\":\"left\"},\"paper_bgcolor\":\"white\",\"plot_bgcolor\":\"#E5ECF6\",\"polar\":{\"bgcolor\":\"#E5ECF6\",\"angularaxis\":{\"gridcolor\":\"white\",\"linecolor\":\"white\",\"ticks\":\"\"},\"radialaxis\":{\"gridcolor\":\"white\",\"linecolor\":\"white\",\"ticks\":\"\"}},\"ternary\":{\"bgcolor\":\"#E5ECF6\",\"aaxis\":{\"gridcolor\":\"white\",\"linecolor\":\"white\",\"ticks\":\"\"},\"baxis\":{\"gridcolor\":\"white\",\"linecolor\":\"white\",\"ticks\":\"\"},\"caxis\":{\"gridcolor\":\"white\",\"linecolor\":\"white\",\"ticks\":\"\"}},\"coloraxis\":{\"colorbar\":{\"outlinewidth\":0,\"ticks\":\"\"}},\"colorscale\":{\"sequential\":[[0.0,\"#0d0887\"],[0.1111111111111111,\"#46039f\"],[0.2222222222222222,\"#7201a8\"],[0.3333333333333333,\"#9c179e\"],[0.4444444444444444,\"#bd3786\"],[0.5555555555555556,\"#d8576b\"],[0.6666666666666666,\"#ed7953\"],[0.7777777777777778,\"#fb9f3a\"],[0.8888888888888888,\"#fdca26\"],[1.0,\"#f0f921\"]],\"sequentialminus\":[[0.0,\"#0d0887\"],[0.1111111111111111,\"#46039f\"],[0.2222222222222222,\"#7201a8\"],[0.3333333333333333,\"#9c179e\"],[0.4444444444444444,\"#bd3786\"],[0.5555555555555556,\"#d8576b\"],[0.6666666666666666,\"#ed7953\"],[0.7777777777777778,\"#fb9f3a\"],[0.8888888888888888,\"#fdca26\"],[1.0,\"#f0f921\"]],\"diverging\":[[0,\"#8e0152\"],[0.1,\"#c51b7d\"],[0.2,\"#de77ae\"],[0.3,\"#f1b6da\"],[0.4,\"#fde0ef\"],[0.5,\"#f7f7f7\"],[0.6,\"#e6f5d0\"],[0.7,\"#b8e186\"],[0.8,\"#7fbc41\"],[0.9,\"#4d9221\"],[1,\"#276419\"]]},\"xaxis\":{\"gridcolor\":\"white\",\"linecolor\":\"white\",\"ticks\":\"\",\"title\":{\"standoff\":15},\"zerolinecolor\":\"white\",\"automargin\":true,\"zerolinewidth\":2},\"yaxis\":{\"gridcolor\":\"white\",\"linecolor\":\"white\",\"ticks\":\"\",\"title\":{\"standoff\":15},\"zerolinecolor\":\"white\",\"automargin\":true,\"zerolinewidth\":2},\"scene\":{\"xaxis\":{\"backgroundcolor\":\"#E5ECF6\",\"gridcolor\":\"white\",\"linecolor\":\"white\",\"showbackground\":true,\"ticks\":\"\",\"zerolinecolor\":\"white\",\"gridwidth\":2},\"yaxis\":{\"backgroundcolor\":\"#E5ECF6\",\"gridcolor\":\"white\",\"linecolor\":\"white\",\"showbackground\":true,\"ticks\":\"\",\"zerolinecolor\":\"white\",\"gridwidth\":2},\"zaxis\":{\"backgroundcolor\":\"#E5ECF6\",\"gridcolor\":\"white\",\"linecolor\":\"white\",\"showbackground\":true,\"ticks\":\"\",\"zerolinecolor\":\"white\",\"gridwidth\":2}},\"shapedefaults\":{\"line\":{\"color\":\"#2a3f5f\"}},\"annotationdefaults\":{\"arrowcolor\":\"#2a3f5f\",\"arrowhead\":0,\"arrowwidth\":1},\"geo\":{\"bgcolor\":\"white\",\"landcolor\":\"#E5ECF6\",\"subunitcolor\":\"white\",\"showland\":true,\"showlakes\":true,\"lakecolor\":\"white\"},\"title\":{\"x\":0.05},\"mapbox\":{\"style\":\"light\"}}}},                        {\"responsive\": true}                    ).then(function(){\n",
       "                            \n",
       "var gd = document.getElementById('04509262-99f4-4c6b-a1c5-67b32996cbb1');\n",
       "var x = new MutationObserver(function (mutations, observer) {{\n",
       "        var display = window.getComputedStyle(gd).display;\n",
       "        if (!display || display === 'none') {{\n",
       "            console.log([gd, 'removed!']);\n",
       "            Plotly.purge(gd);\n",
       "            observer.disconnect();\n",
       "        }}\n",
       "}});\n",
       "\n",
       "// Listen for the removal of the full notebook cells\n",
       "var notebookContainer = gd.closest('#notebook-container');\n",
       "if (notebookContainer) {{\n",
       "    x.observe(notebookContainer, {childList: true});\n",
       "}}\n",
       "\n",
       "// Listen for the clearing of the current output cell\n",
       "var outputEl = gd.closest('.output');\n",
       "if (outputEl) {{\n",
       "    x.observe(outputEl, {childList: true});\n",
       "}}\n",
       "\n",
       "                        })                };                });            </script>        </div>"
      ]
     },
     "metadata": {},
     "output_type": "display_data"
    }
   ],
   "source": [
    "import plotly.graph_objects as go\n",
    "\n",
    "# Assuming wvfms is your waveform data and peak_indices contains the indices of the peaks\n",
    "waveform = wvfms[0,0,4,:]  # replace with the index of the waveform you want to plot\n",
    "\n",
    "\n",
    "fig = go.Figure()\n",
    "\n",
    "# Plot the waveform\n",
    "fig.add_trace(go.Scatter(\n",
    "    y=waveform,\n",
    "    mode='lines',\n",
    "    name='Waveform'\n",
    "))\n",
    "\n",
    "# Plot the peaks\n",
    "fig.add_trace(go.Scatter(\n",
    "    x=selected_ticks+1,\n",
    "    y=waveform[selected_ticks+1],\n",
    "    mode='markers',\n",
    "    name='Peaks'\n",
    "))\n",
    "\n",
    "fig.show()"
   ]
  },
  {
   "cell_type": "code",
   "execution_count": 29,
   "metadata": {},
   "outputs": [],
   "source": [
    "# convert channel thresholds into an array\n",
    "threshold_array = np.zeros((ntpc, ndet, 1))\n",
    "for tpc in range(ntpc):\n",
    "    for det in range(ndet):\n",
    "        threshold_array[tpc,\n",
    "                        det] = 500\n",
    "threshold = threshold_array"
   ]
  },
  {
   "cell_type": "code",
   "execution_count": 31,
   "metadata": {},
   "outputs": [],
   "source": [
    "# apply threshold\n",
    "threshold_mask = peak_max >= threshold[peaks[1:-1]].ravel()"
   ]
  },
  {
   "cell_type": "code",
   "execution_count": 32,
   "metadata": {},
   "outputs": [],
   "source": [
    "if np.count_nonzero(threshold_mask):\n",
    "    # hits are present in event, extract parameters\n",
    "    peaks = tuple(p[threshold_mask].reshape(-1, 1) for p in peaks)\n",
    "    peak_max = peak_max[threshold_mask]"
   ]
  },
  {
   "cell_type": "code",
   "execution_count": 34,
   "metadata": {},
   "outputs": [],
   "source": [
    "# get neighboring samples\n",
    "near_samples = 3\n",
    "nsamples = wvfms.shape[0]\n",
    "peak_sample_index = np.clip(peaks[-1].reshape(-1, 1)\n",
    "                            + np.arange(-near_samples + 1, near_samples + 2), 0, nsamples - 1)\n",
    "peak_samples = wvfms[peaks[:-1] + (peak_sample_index,)]\n",
    "peak_sum = np.sum(peak_samples.astype(int), axis=-1)"
   ]
  },
  {
   "cell_type": "code",
   "execution_count": 36,
   "metadata": {},
   "outputs": [],
   "source": [
    "# create hit spline\n",
    "import scipy\n",
    "peak_spline = scipy.interpolate.CubicSpline(\n",
    "    np.arange(-near_samples, near_samples + 1),\n",
    "    peak_samples, axis=-1, extrapolate=True)\n",
    "# calculate integral\n",
    "peak_sum_spline = peak_spline.integrate(-near_samples,\n",
    "                                        near_samples)"
   ]
  },
  {
   "cell_type": "code",
   "execution_count": 39,
   "metadata": {},
   "outputs": [],
   "source": [
    "# find max\n",
    "interpolation = 256\n",
    "sample_rate = 1/16\n",
    "subsamples = np.linspace(-near_samples, near_samples,\n",
    "                            interpolation)\n",
    "peak_spline_subsamples = peak_spline(subsamples)\n",
    "peak_max_spline = np.max(peak_spline_subsamples, axis=-1)\n",
    "peak_ns_spline = np.expand_dims(np.take_along_axis(subsamples,\n",
    "                                                    np.argmax(peak_spline_subsamples, axis=-1), axis=0), axis=-1) * sample_rate\n"
   ]
  },
  {
   "cell_type": "code",
   "execution_count": 44,
   "metadata": {},
   "outputs": [],
   "source": [
    "def find_outlier_mask(arr):\n",
    "    '''\n",
    "        Find outlier mask using median absolute deviation. An outlier is\n",
    "        defined as::\n",
    "\n",
    "            |arr - median(arr, axis=-1)| >\n",
    "                median(|arr - median(arr, axis=-1)|, axis=-1)\n",
    "\n",
    "        :param arr: 2D masked array of points, ``shape: (N,M)``\n",
    "\n",
    "        :returns: 2D boolean masked array of outliers, ``shape: (N,M)``, ``True == outlier``\n",
    "\n",
    "    '''\n",
    "    med = np.median(arr, axis=-1, keepdims=True)\n",
    "    mad = np.median(np.abs(arr - med), axis=-1, keepdims=True)\n",
    "    return np.abs(arr - med) > mad"
   ]
  },
  {
   "cell_type": "code",
   "execution_count": 45,
   "metadata": {},
   "outputs": [
    {
     "name": "stderr",
     "output_type": "stream",
     "text": [
      "/tmp/ipykernel_1647857/1995876067.py:3: RuntimeWarning:\n",
      "\n",
      "divide by zero encountered in divide\n",
      "\n",
      "/tmp/ipykernel_1647857/1995876067.py:3: RuntimeWarning:\n",
      "\n",
      "invalid value encountered in divide\n",
      "\n",
      "/global/homes/m/mnuland/.conda/envs/arrakis_env/lib/python3.11/site-packages/numpy/core/fromnumeric.py:3504: RuntimeWarning:\n",
      "\n",
      "Mean of empty slice.\n",
      "\n",
      "/global/homes/m/mnuland/.conda/envs/arrakis_env/lib/python3.11/site-packages/numpy/core/_methods.py:121: RuntimeWarning:\n",
      "\n",
      "invalid value encountered in divide\n",
      "\n",
      "/global/homes/m/mnuland/.conda/envs/arrakis_env/lib/python3.11/site-packages/numpy/core/_methods.py:206: RuntimeWarning:\n",
      "\n",
      "Degrees of freedom <= 0 for slice\n",
      "\n",
      "/global/homes/m/mnuland/.conda/envs/arrakis_env/lib/python3.11/site-packages/numpy/core/_methods.py:163: RuntimeWarning:\n",
      "\n",
      "invalid value encountered in divide\n",
      "\n",
      "/global/homes/m/mnuland/.conda/envs/arrakis_env/lib/python3.11/site-packages/numpy/core/_methods.py:195: RuntimeWarning:\n",
      "\n",
      "invalid value encountered in divide\n",
      "\n"
     ]
    }
   ],
   "source": [
    "# project back to 0-crossing\n",
    "peak_spline_d = peak_spline.derivative(1)(subsamples)\n",
    "peak_rising_spline_samples = np.array(subsamples - peak_spline_subsamples / peak_spline_d)[subsamples >= peak_ns_spline]\n",
    "rising_outlier_mask = find_outlier_mask(\n",
    "    peak_rising_spline_samples)\n",
    "# calculate rising edge\n",
    "peak_rising_spline_samples = np.array(peak_rising_spline_samples)[rising_outlier_mask]\n",
    "peak_rising_spline = np.mean(peak_rising_spline_samples, axis=-1,\n",
    "                                keepdims=True) * sample_rate\n",
    "peak_rising_err_spline = np.std(peak_rising_spline_samples, axis=-1,\n",
    "                                keepdims=True) * sample_rate"
   ]
  },
  {
   "cell_type": "code",
   "execution_count": 52,
   "metadata": {},
   "outputs": [],
   "source": [
    "hits_dtype = np.dtype([\n",
    "            ('id', 'u4'),\n",
    "            ('tpc', 'u1'),\n",
    "            ('det', 'u1'),\n",
    "            ('sample_idx', 'u2'),\n",
    "            ('ns', 'f8'),\n",
    "            ('busy_ns', 'f8'),\n",
    "            ('samples', 'f4', (2 * near_samples + 1,)),\n",
    "            ('sum', 'f4'),\n",
    "            ('max', 'f4'),\n",
    "            ('sum_spline', 'f4'),\n",
    "            ('max_spline', 'f4'),\n",
    "            ('ns_spline', 'f4'),\n",
    "            ('rising_spline', 'f4'),\n",
    "            ('rising_err_spline', 'f4'),\n",
    "            ('fwhm_spline', 'f4')\n",
    "        ])\n",
    "wvfm_det = np.broadcast_to(np.arange(wvfms.shape[-2]).reshape(1,1,-1), wvfms.shape[:-1])\n",
    "wvfm_align = cache[self.wvfm_align_dset_name].reshape(cache[source_name].shape)"
   ]
  },
  {
   "cell_type": "code",
   "execution_count": 54,
   "metadata": {},
   "outputs": [
    {
     "name": "stderr",
     "output_type": "stream",
     "text": [
      "/tmp/ipykernel_1647857/3479042095.py:3: RuntimeWarning:\n",
      "\n",
      "divide by zero encountered in divide\n",
      "\n",
      "/tmp/ipykernel_1647857/3479042095.py:3: RuntimeWarning:\n",
      "\n",
      "invalid value encountered in divide\n",
      "\n",
      "/tmp/ipykernel_1647857/3479042095.py:5: RuntimeWarning:\n",
      "\n",
      "divide by zero encountered in divide\n",
      "\n",
      "/tmp/ipykernel_1647857/3479042095.py:5: RuntimeWarning:\n",
      "\n",
      "invalid value encountered in divide\n",
      "\n",
      "/tmp/ipykernel_1647857/3479042095.py:11: RuntimeWarning:\n",
      "\n",
      "Mean of empty slice.\n",
      "\n",
      "/tmp/ipykernel_1647857/3479042095.py:12: RuntimeWarning:\n",
      "\n",
      "Mean of empty slice.\n",
      "\n"
     ]
    }
   ],
   "source": [
    "# calculate FWHM\n",
    "peak_lhm_spline_samples = np.array(subsamples\n",
    "                                    + (np.expand_dims(peak_max_spline, axis=-1) * 0.5 - peak_spline_subsamples) / peak_spline_d)[subsamples >= peak_ns_spline]\n",
    "peak_uhm_spline_samples = np.array(subsamples\n",
    "                                    + (np.expand_dims(peak_max_spline, axis=-1) * 0.5 - peak_spline_subsamples) / peak_spline_d)[subsamples <= peak_ns_spline]\n",
    "lhm_outlier_mask = find_outlier_mask(peak_lhm_spline_samples)\n",
    "uhm_outlier_mask = find_outlier_mask(peak_uhm_spline_samples)\n",
    "# calculate fwhm\n",
    "peak_lhm_spline_samples = np.array(peak_lhm_spline_samples)[lhm_outlier_mask]\n",
    "peak_uhm_spline_samples = np.array(peak_uhm_spline_samples)[uhm_outlier_mask]\n",
    "peak_fwhm_spline = (peak_uhm_spline_samples.mean(axis=-1)\n",
    "    - peak_lhm_spline_samples.mean(axis=-1))\n",
    "\n",
    "hit_data = np.empty((len(peaks[-1])), dtype=hits_dtype)\n",
    "hit_data['tpc'] = peaks[1].ravel()\n",
    "hit_data['det'] = wvfm_det[peaks[:3]].ravel()\n",
    "# hit_data['ns'] = wvfm_align['ns'][peaks[0]].ravel()\n",
    "hit_data['sample_idx'] = peaks[-1].ravel() + 1"
   ]
  },
  {
   "cell_type": "code",
   "execution_count": null,
   "metadata": {},
   "outputs": [],
   "source": [
    "wvfm_align = cache[self.wvfm_align_dset_name].reshape(cache[source_name].shape)"
   ]
  },
  {
   "cell_type": "code",
   "execution_count": 56,
   "metadata": {},
   "outputs": [],
   "source": [
    "# align_sample_idx = wvfm_align['sample_idx']\n",
    "# if align_sample_idx.ndim == 2:\n",
    "#     target_shape = wvfms.shape[:-1] #(n_batch, n_tpc, n_ch)\n",
    "#     n_ch = target_shape[-1]\n",
    "#     align_sample_idx = np.reshape(\n",
    "#         np.repeat(align_sample_idx, n_ch), target_shape\n",
    "#     )\n",
    "\n",
    "# hit_data['busy_ns'] = (\n",
    "#     (peaks[-1] + 1 - align_sample_idx[peaks[:3]]).ravel() \n",
    "#     * sample_rate\n",
    "# )\n",
    "hit_data['samples'] = peak_samples.reshape(-1, 2 * near_samples + 1)\n",
    "hit_data['sum'] = peak_sum.ravel()\n",
    "hit_data['max'] = peak_max.ravel()\n",
    "hit_data['sum_spline'] = peak_sum_spline.ravel()\n",
    "hit_data['max_spline'] = peak_max_spline.ravel()\n",
    "hit_data['ns_spline'] = peak_ns_spline.ravel()\n",
    "hit_data['rising_spline'] = peak_rising_spline.ravel()\n",
    "hit_data['rising_err_spline'] = peak_rising_err_spline.ravel()\n",
    "hit_data['fwhm_spline'] = peak_fwhm_spline.ravel()"
   ]
  },
  {
   "cell_type": "code",
   "execution_count": 57,
   "metadata": {},
   "outputs": [
    {
     "data": {
      "text/plain": [
       "array([[ 36., 364., 600., ..., 684., 680., 600.],\n",
       "       [  4.,   4.,   4., ...,   4.,   4.,   4.],\n",
       "       [  4.,   4.,   4., ...,   4.,   4.,   4.],\n",
       "       ...,\n",
       "       [124., 404., 528., ..., 480., 448., 352.],\n",
       "       [288., 484., 556., ..., 540., 456., 316.],\n",
       "       [244., 504., 560., ..., 552., 488., 480.]], dtype=float32)"
      ]
     },
     "execution_count": 57,
     "metadata": {},
     "output_type": "execute_result"
    }
   ],
   "source": [
    "hit_data['samples']"
   ]
  },
  {
   "cell_type": "code",
   "execution_count": null,
   "metadata": {},
   "outputs": [],
   "source": []
  }
 ],
 "metadata": {
  "kernelspec": {
   "display_name": "h5flow",
   "language": "python",
   "name": "arrakis_env"
  },
  "language_info": {
   "codemirror_mode": {
    "name": "ipython",
    "version": 3
   },
   "file_extension": ".py",
   "mimetype": "text/x-python",
   "name": "python",
   "nbconvert_exporter": "python",
   "pygments_lexer": "ipython3",
   "version": "3.11.6"
  }
 },
 "nbformat": 4,
 "nbformat_minor": 2
}
